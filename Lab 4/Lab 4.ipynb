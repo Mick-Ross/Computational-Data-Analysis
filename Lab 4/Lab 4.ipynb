{
 "cells": [
  {
   "cell_type": "code",
   "execution_count": 4,
   "id": "89d2d4c1-4914-4166-9fca-9217989b1e71",
   "metadata": {},
   "outputs": [],
   "source": [
    "%matplotlib inline\n",
    "import numpy as np\n",
    "import matplotlib\n",
    "import matplotlib.pyplot as plt\n",
    "import scipy\n",
    "from scipy import stats\n",
    "import h5py\n",
    "\n",
    "#this sets the size of the plot to something useful\n",
    "plt.rcParams[\"figure.figsize\"] = (20,15)"
   ]
  },
  {
   "cell_type": "markdown",
   "id": "ec2767eb-f271-4ec2-bd81-14a7ed67219b",
   "metadata": {},
   "source": [
    "# Lab 4"
   ]
  },
  {
   "cell_type": "code",
   "execution_count": 13,
   "id": "5e92f9cd-3680-4836-8275-301eee6c38fc",
   "metadata": {},
   "outputs": [],
   "source": [
    "hf = h5py.File('Lab 4/gammaray_lab4.h5', 'r')"
   ]
  },
  {
   "cell_type": "code",
   "execution_count": 14,
   "id": "e12fcfe0-dab7-4491-adc2-79936c7aa5d8",
   "metadata": {},
   "outputs": [
    {
     "data": {
      "text/plain": [
       "<KeysViewHDF5 ['data']>"
      ]
     },
     "execution_count": 14,
     "metadata": {},
     "output_type": "execute_result"
    }
   ],
   "source": [
    "hf.keys()"
   ]
  },
  {
   "cell_type": "code",
   "execution_count": 15,
   "id": "70a5008c-9a55-4cef-9aa3-7ec2b45b1871",
   "metadata": {},
   "outputs": [
    {
     "data": {
      "text/plain": [
       "array([9.40680016e+08, 3.15000000e+02, 4.50000000e+01, 1.00000000e+01])"
      ]
     },
     "execution_count": 15,
     "metadata": {},
     "output_type": "execute_result"
    }
   ],
   "source": [
    "data = np.array(hf.get('data'))\n",
    "data[:, 0]"
   ]
  },
  {
   "cell_type": "markdown",
   "id": "ce9b7944-9f74-4bd3-8c6a-841160677416",
   "metadata": {},
   "source": [
    "## Problem 1"
   ]
  },
  {
   "cell_type": "code",
   "execution_count": 18,
   "id": "35ddc4c8-5806-497f-b45b-bccb02faaafa",
   "metadata": {},
   "outputs": [],
   "source": [
    "time = data[0, :]\n",
    "solarPhaseDegs = data[1, :]\n",
    "earthLongit = data[2, :]\n",
    "particleCounts = data[3, :]"
   ]
  },
  {
   "cell_type": "markdown",
   "id": "0b21d7a7-0b14-457f-98c4-65f8c588ea2f",
   "metadata": {},
   "source": [
    "### 1) Make a few plots exploring the data."
   ]
  },
  {
   "cell_type": "code",
   "execution_count": 23,
   "id": "dfa3e270-8924-4f76-8ad9-ef9e1ce1f9bc",
   "metadata": {},
   "outputs": [],
   "source": [
    "def contiguousPt(start, numPoints, t, data, xLabel, step = None):\n",
    "    if ((start + numPoints) > len(data)):\n",
    "        return \"Out of range\"\n",
    "    \n",
    "    plt.title(f'Gamma-Ray Satellite Data', fontsize='xx-large')\n",
    "    plt.xlabel(xLabel, fontsize='large')\n",
    "    plt.ylabel('Particle Counts',fontsize='large')\n",
    "    plt.scatter(t[start:start+numPoints:step], bkgd[start:start+numPoints:step])"
   ]
  },
  {
   "cell_type": "code",
   "execution_count": null,
   "id": "b6096684-8ba8-43d7-b671-eebf4e8cec2d",
   "metadata": {},
   "outputs": [],
   "source": []
  }
 ],
 "metadata": {
  "kernelspec": {
   "display_name": "Python 3",
   "language": "python",
   "name": "python3"
  },
  "language_info": {
   "codemirror_mode": {
    "name": "ipython",
    "version": 3
   },
   "file_extension": ".py",
   "mimetype": "text/x-python",
   "name": "python",
   "nbconvert_exporter": "python",
   "pygments_lexer": "ipython3",
   "version": "3.8.8"
  }
 },
 "nbformat": 4,
 "nbformat_minor": 5
}
