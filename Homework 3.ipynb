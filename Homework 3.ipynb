{
 "cells": [
  {
   "cell_type": "code",
   "execution_count": null,
   "id": "1f8ffb43-d162-4677-8696-29227af8c2ee",
   "metadata": {},
   "outputs": [],
   "source": [
    "import numpy as np\n",
    "import matplotlib\n",
    "import matplotlib.pyplot as plt\n",
    "import scipy\n",
    "\n",
    "from scipy import stats"
   ]
  },
  {
   "cell_type": "markdown",
   "id": "4811020a-299c-4448-9c55-141ee082b675",
   "metadata": {},
   "source": [
    "# Homework 3"
   ]
  },
  {
   "cell_type": "markdown",
   "id": "fd39b212-5262-42a7-8966-cfd632419563",
   "metadata": {},
   "source": [
    "## Problem 1"
   ]
  },
  {
   "cell_type": "markdown",
   "id": "1ad60bc3-4288-49bc-9eaa-7a38d887ae1a",
   "metadata": {},
   "source": [
    "1a) Neural network (NN) makes the fewest mistakes. 8 total miscategorizations versus the 12 in the new algorithm (NA)."
   ]
  },
  {
   "cell_type": "markdown",
   "id": "64890520-a007-42b3-8896-368989de7fcf",
   "metadata": {},
   "source": [
    "1b) The new algorithm is better for the zoo because it had a higher accuracy for identifying birds alone, so less birds were able to escape. "
   ]
  },
  {
   "cell_type": "markdown",
   "id": "75190899-9e6b-4f07-aadf-daf03ddb5a8d",
   "metadata": {},
   "source": [
    "1c)"
   ]
  },
  {
   "cell_type": "markdown",
   "id": "e04488e9-5acc-4301-ad59-fbc8d4e82648",
   "metadata": {},
   "source": [
    "|             | True Bird   | True Person |\n",
    "| ----------- | ----------- | ----------- |\n",
    "| NN Bird     | 93       | 0        |\n",
    "| NN Person   | 6        | 1        |"
   ]
  },
  {
   "cell_type": "markdown",
   "id": "b793c57a-f2ae-4e67-86a8-7461816db01c",
   "metadata": {},
   "source": [
    "|             | True Bird   | True Person |\n",
    "| ----------- | ----------- | ----------- |\n",
    "| NA Bird     | 97       | 0        |\n",
    "| NA Person   | 2        | 1        |"
   ]
  },
  {
   "cell_type": "markdown",
   "id": "4d167bf4-1ee5-441d-977f-728e30650059",
   "metadata": {},
   "source": [
    "## Problem 2"
   ]
  },
  {
   "cell_type": "markdown",
   "id": "659b0335-dab8-4808-b09c-17d3df23af0f",
   "metadata": {},
   "source": [
    "2a) The pdf of the sum of two identical exponential distributions (with rate parameter $\\lambda$) is equivalent to an Erlang distribution with shape 2 and parameter = $\\lambda$."
   ]
  },
  {
   "cell_type": "markdown",
   "id": "c3d89f3c-7ed5-4eb7-9efb-a553413359e1",
   "metadata": {},
   "source": [
    "2b) The ratio of two two zero-mean unity variance normal distributions (X1/X2) results in the pdf of a standard Cauchy distribution (centered at x = 0, its scale, $\\gamma$ = 1)."
   ]
  },
  {
   "cell_type": "markdown",
   "id": "d36e380f-27ae-40f9-8aba-eb457384a831",
   "metadata": {},
   "source": [
    "2c) The amplitude of this vector ends up having a pdf of a Rayleigh distribution. We have two Gaussian distributions with the same sigma, and we are plotting the square root of the sum of squares. This is exactly defined as a Rayleigh as discussed in class."
   ]
  },
  {
   "cell_type": "code",
   "execution_count": null,
   "id": "50de85e7-41d6-465b-b248-e90e6c2b3acf",
   "metadata": {},
   "outputs": [],
   "source": []
  }
 ],
 "metadata": {
  "kernelspec": {
   "display_name": "Python 3",
   "language": "python",
   "name": "python3"
  },
  "language_info": {
   "codemirror_mode": {
    "name": "ipython",
    "version": 3
   },
   "file_extension": ".py",
   "mimetype": "text/x-python",
   "name": "python",
   "nbconvert_exporter": "python",
   "pygments_lexer": "ipython3",
   "version": "3.8.8"
  }
 },
 "nbformat": 4,
 "nbformat_minor": 5
}
