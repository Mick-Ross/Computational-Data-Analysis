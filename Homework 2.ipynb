{
 "cells": [
  {
   "cell_type": "code",
   "execution_count": 1,
   "id": "6b2c8d96-f180-488d-975b-5729f10a23b5",
   "metadata": {},
   "outputs": [],
   "source": [
    "import numpy as np\n",
    "import matplotlib\n",
    "import matplotlib.pyplot as plt\n",
    "import scipy\n",
    "\n",
    "from scipy import stats"
   ]
  },
  {
   "cell_type": "markdown",
   "id": "10221321-6210-45c0-8eff-4a3a3f4cae3f",
   "metadata": {},
   "source": [
    "# Homework 2\n",
    "\n",
    "## Problem 1"
   ]
  },
  {
   "cell_type": "markdown",
   "id": "adfa5acf-c2f9-46b1-9794-e341aa91a3cd",
   "metadata": {},
   "source": [
    "Rolling sevens is more probable.\n",
    "\n",
    "1/36 is the probability of two ones.\n",
    "6/36 is the probability of rolling seven."
   ]
  },
  {
   "cell_type": "markdown",
   "id": "3dff9484-c784-4755-a7d6-821270cff12d",
   "metadata": {},
   "source": [
    "## Problem 2"
   ]
  },
  {
   "cell_type": "code",
   "execution_count": 2,
   "id": "7fd447c9-cb54-4183-b66a-8223132a7407",
   "metadata": {},
   "outputs": [],
   "source": [
    "dice1 = [1/6]*6"
   ]
  },
  {
   "cell_type": "code",
   "execution_count": 3,
   "id": "96c14b7f-b8e6-421f-a500-fa1164811172",
   "metadata": {},
   "outputs": [],
   "source": [
    "probs = np.convolve(dice1, dice1)"
   ]
  },
  {
   "cell_type": "code",
   "execution_count": 4,
   "id": "e0956d8b-8c9e-4bf0-aa6e-a8e0cec7473d",
   "metadata": {},
   "outputs": [
    {
     "name": "stdout",
     "output_type": "stream",
     "text": [
      "0.16666666666666666\n",
      "0.1388888888888889\n",
      "0.1111111111111111\n",
      "0.08333333333333333\n",
      "0.05555555555555555\n",
      "0.027777777777777776\n",
      "\n",
      "This corresponds to our probabilities in our convolution, based on where they overlap. Of course, the convolution is symmetric but this is how to calculate these values.\n"
     ]
    }
   ],
   "source": [
    "print(6.0*(1/6)**2.0)\n",
    "print(5.0*(1/6)**2.0)\n",
    "print(4.0*(1/6)**2.0)\n",
    "print(3.0*(1/6)**2.0)\n",
    "print(2.0*(1/6)**2.0)\n",
    "print(1.0*(1/6)**2.0)\n",
    "\n",
    "print('\\nThis corresponds to our probabilities in our convolution, based on where they overlap. Of course, the convolution is symmetric but this is how to calculate these values.')"
   ]
  },
  {
   "cell_type": "code",
   "execution_count": 5,
   "id": "7b0c3db3-6a42-4b23-89e8-c0ca860d5065",
   "metadata": {},
   "outputs": [
    {
     "data": {
      "text/plain": [
       "[<matplotlib.lines.Line2D at 0x7f84bdfb0d00>]"
      ]
     },
     "execution_count": 5,
     "metadata": {},
     "output_type": "execute_result"
    },
    {
     "data": {
      "image/png": "[encoded data removed]",
      "text/plain": [
       "<Figure size 432x288 with 1 Axes>"
      ]
     },
     "metadata": {
      "needs_background": "light"
     },
     "output_type": "display_data"
    }
   ],
   "source": [
    "domain = np.linspace(2, 12, 11)\n",
    "\n",
    "plt.title(f'Sum of Two Die vs. Prob', fontsize='large')\n",
    "plt.xlabel('Value',fontsize='large')\n",
    "plt.ylabel('Probability',fontsize='large')\n",
    "#plt.vlines(domain, 0, probs)\n",
    "plt.step(domain, probs, where = 'mid')"
   ]
  },
  {
   "cell_type": "markdown",
   "id": "11f1601a-feda-4c42-bf84-fa364fb22f47",
   "metadata": {},
   "source": [
    "# Problem 3"
   ]
  },
  {
   "cell_type": "code",
   "execution_count": 6,
   "id": "f1a1269e-f016-4174-a7cc-b7e66d84426a",
   "metadata": {},
   "outputs": [
    {
     "name": "stdout",
     "output_type": "stream",
     "text": [
      "7.0 is the mean of our distribution.\n"
     ]
    }
   ],
   "source": [
    "mean = 0\n",
    "for a in range(len(domain)):\n",
    "    mean += probs[a] * domain[a]\n",
    "    \n",
    "print(str(mean) + ' is the mean of our distribution.')"
   ]
  },
  {
   "cell_type": "code",
   "execution_count": 7,
   "id": "bafc80b2-aa1e-4a7b-85a0-11e13cf9e5d3",
   "metadata": {},
   "outputs": [
    {
     "name": "stdout",
     "output_type": "stream",
     "text": [
      "5.833333333333334 is the variance of our distribution.\n"
     ]
    }
   ],
   "source": [
    "var = 0\n",
    "for a in range(len(domain)):\n",
    "    var += probs[a]*(domain[a]-mean)**2\n",
    "\n",
    "print(str(var) + ' is the variance of our distribution.')"
   ]
  },
  {
   "cell_type": "markdown",
   "id": "454e6acb-72bb-4c4c-8d7b-9dc2945b7327",
   "metadata": {},
   "source": [
    "This result makes sense."
   ]
  },
  {
   "cell_type": "markdown",
   "id": "c1d2ef85-4ad9-4cf4-82f2-bd0d42f56d42",
   "metadata": {},
   "source": [
    "# Problem 4"
   ]
  },
  {
   "cell_type": "code",
   "execution_count": 8,
   "id": "034ba3e8-e6ab-41fa-91bd-c1212f909392",
   "metadata": {},
   "outputs": [
    {
     "name": "stdout",
     "output_type": "stream",
     "text": [
      "[1.65381717e-08 1.65381717e-07 9.09599443e-07 3.63839777e-06\n",
      " 1.18247928e-05 3.31094197e-05 8.26081676e-05 1.87542867e-04\n",
      " 3.92946959e-04 7.67701930e-04 1.40951530e-03 2.44665712e-03\n",
      " 4.03407353e-03 6.34189270e-03 9.53533096e-03 1.37465945e-02\n",
      " 1.90415547e-02 2.53867551e-02 3.26236936e-02 4.04573294e-02\n",
      " 4.84643679e-02 5.61241048e-02 6.28704385e-02 6.81581055e-02\n",
      " 7.15327194e-02 7.26928060e-02 7.15327194e-02 6.81581055e-02\n",
      " 6.28704385e-02 5.61241048e-02 4.84643679e-02 4.04573294e-02\n",
      " 3.26236936e-02 2.53867551e-02 1.90415547e-02 1.37465945e-02\n",
      " 9.53533096e-03 6.34189270e-03 4.03407353e-03 2.44665712e-03\n",
      " 1.40951530e-03 7.67701930e-04 3.92946959e-04 1.87542867e-04\n",
      " 8.26081676e-05 3.31094197e-05 1.18247928e-05 3.63839777e-06\n",
      " 9.09599443e-07 1.65381717e-07 1.65381717e-08]\n"
     ]
    }
   ],
   "source": [
    "for a in range(8):\n",
    "    probs = np.convolve(probs, dice1)\n",
    "    \n",
    "print(probs)"
   ]
  },
  {
   "cell_type": "code",
   "execution_count": 9,
   "id": "eb130a89-10f2-47c6-b1e4-4b8ae003b34f",
   "metadata": {},
   "outputs": [],
   "source": [
    "domain2 = np.linspace(10, 60, 51)"
   ]
  },
  {
   "cell_type": "code",
   "execution_count": 10,
   "id": "0a47c1e3-c2d4-4da9-ad7f-427d84e49a2a",
   "metadata": {},
   "outputs": [
    {
     "data": {
      "text/plain": [
       "<matplotlib.legend.Legend at 0x7f84bdeff3d0>"
      ]
     },
     "execution_count": 10,
     "metadata": {},
     "output_type": "execute_result"
    },
    {
     "data": {
      "image/png": "[encoded data removed]",
      "text/plain": [
       "<Figure size 432x288 with 1 Axes>"
      ]
     },
     "metadata": {
      "needs_background": "light"
     },
     "output_type": "display_data"
    }
   ],
   "source": [
    "plt.title(f'Sum of Ten Die vs. Prob', fontsize='large')\n",
    "plt.xlabel('Value',fontsize='large')\n",
    "plt.ylabel('Probability',fontsize='large')\n",
    "plt.vlines(35, 0, 1.05 * max(probs), linestyles = 'dashed', colors = '#ff9dde', label = 'Mean')\n",
    "plt.step(domain2, probs, where = 'mid', label = 'Probabilities')\n",
    "plt.legend()"
   ]
  },
  {
   "cell_type": "markdown",
   "id": "6d613219-f554-494f-b470-25eb0c85a87b",
   "metadata": {},
   "source": [
    "The mean is 35."
   ]
  },
  {
   "cell_type": "code",
   "execution_count": 12,
   "id": "709e4579-914a-4926-a32b-31664639ba3b",
   "metadata": {},
   "outputs": [
    {
     "data": {
      "text/plain": [
       "[<matplotlib.lines.Line2D at 0x7f84bddc66d0>]"
      ]
     },
     "execution_count": 12,
     "metadata": {},
     "output_type": "execute_result"
    },
    {
     "data": {
      "image/png": "[encoded data removed]",
      "text/plain": [
       "<Figure size 432x288 with 1 Axes>"
      ]
     },
     "metadata": {
      "needs_background": "light"
     },
     "output_type": "display_data"
    }
   ],
   "source": [
    "plt.semilogy(domain2, probs)"
   ]
  },
  {
   "cell_type": "markdown",
   "id": "b7a82519-9374-470c-89f5-9d3fa4e06f97",
   "metadata": {},
   "source": [
    "By checking on a semi-log plot, we can say with some confidence that we have a Gaussian distribution. EXPLAIN THIS MORE"
   ]
  },
  {
   "cell_type": "markdown",
   "id": "705df80d-cc95-46d2-b706-eab5f8dba59d",
   "metadata": {},
   "source": [
    "# Problem 5"
   ]
  },
  {
   "cell_type": "code",
   "execution_count": null,
   "id": "05711eeb-dd20-4356-ab35-f6bdfb354e54",
   "metadata": {},
   "outputs": [],
   "source": []
  }
 ],
 "metadata": {
  "kernelspec": {
   "display_name": "Python 3",
   "language": "python",
   "name": "python3"
  },
  "language_info": {
   "codemirror_mode": {
    "name": "ipython",
    "version": 3
   },
   "file_extension": ".py",
   "mimetype": "text/x-python",
   "name": "python",
   "nbconvert_exporter": "python",
   "pygments_lexer": "ipython3",
   "version": "3.8.8"
  }
 },
 "nbformat": 4,
 "nbformat_minor": 5
}
