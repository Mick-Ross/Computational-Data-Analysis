{
 "cells": [
  {
   "cell_type": "code",
   "execution_count": 2,
   "id": "c323c0c5-310d-401c-825b-388f6aef5d2a",
   "metadata": {},
   "outputs": [],
   "source": [
    "import numpy as np\n",
    "import matplotlib\n",
    "import matplotlib.pyplot as plt\n",
    "import scipy\n",
    "\n",
    "from scipy import stats"
   ]
  },
  {
   "cell_type": "markdown",
   "id": "085adb72-9e2e-4bf2-9afa-343eff10de47",
   "metadata": {},
   "source": [
    "# Statistics Basics\n",
    "\n",
    "______________________________________________________________"
   ]
  },
  {
   "cell_type": "markdown",
   "id": "05fe16de-8ce0-4835-88a6-377e851a5e43",
   "metadata": {},
   "source": [
    "#### 1A. The normal distribution\n",
    "\n",
    "A normal (Gaussian) distribution is known for its bell curve. It is a symmetric, continuous distribution of a real valued random variable, X. It has two primary parameters that define the width, and center of the curve. Its mean, $\\mu$, and the standard deviation, $\\sigma$.\n",
    "\n",
    "f(x) = $\\frac{1}{\\sigma\\sqrt{2\\pi}} \n",
    "  \\exp\\left( -\\frac{1}{2}\\left(\\frac{x-\\mu}{\\sigma}\\right)^{\\!2}\\,\\right)$ defines its probability density function.\n",
    "  \n",
    "You must integrate over a given range of values to determine the probability of such values in a normal distribution. This is because for continuous distributions, you cannot get any useful information from an infinitesimal probability at a specific value."
   ]
  },
  {
   "cell_type": "markdown",
   "id": "cfb2e5e0-6f46-4288-8a14-684c2bf21000",
   "metadata": {},
   "source": [
    "#### 1B. Getting probabilities based on Z-score."
   ]
  },
  {
   "cell_type": "markdown",
   "id": "b2647532-a443-4ace-bdac-446f815bdb34",
   "metadata": {},
   "source": [
    "Here we are calculating the probability of getting a value larger than +1-sigma away from the mean, of a standard normal distribution. This is accomplished by integrating from 1-sigma to the right."
   ]
  },
  {
   "cell_type": "code",
   "execution_count": 2,
   "id": "bbf0e627-f611-4cee-8d43-fdafc17630b2",
   "metadata": {},
   "outputs": [
    {
     "name": "stdout",
     "output_type": "stream",
     "text": [
      "0.15729920705028516\n"
     ]
    }
   ],
   "source": [
    "x = scipy.special.erfc(1)\n",
    "print(x)"
   ]
  },
  {
   "cell_type": "markdown",
   "id": "7832267a-cc35-462c-91e2-a9fa73d1f99a",
   "metadata": {},
   "source": [
    "And here we are calculating the probability of getting a value smaller than +1-sigma away from the mean of a standard normal distribution. This is the opposite of our previous calculation, where we integrate to the left."
   ]
  },
  {
   "cell_type": "code",
   "execution_count": 3,
   "id": "7dce7ba1-546d-45fd-a47f-6ae3d9c8533a",
   "metadata": {},
   "outputs": [
    {
     "name": "stdout",
     "output_type": "stream",
     "text": [
      "0.8427007929497148\n"
     ]
    }
   ],
   "source": [
    "y = scipy.special.erf(1)\n",
    "print(y)"
   ]
  },
  {
   "cell_type": "markdown",
   "id": "d1e7654a-afe2-4810-bfb9-459331b5066e",
   "metadata": {},
   "source": [
    "As we can see, the sum of two calculations above adds up to 1, which is to be expected from integrating to get the total probability of all events."
   ]
  },
  {
   "cell_type": "code",
   "execution_count": 4,
   "id": "7d2b08e5-1d45-4f4e-a574-00ce8587dc23",
   "metadata": {},
   "outputs": [
    {
     "data": {
      "text/plain": [
       "1.0"
      ]
     },
     "execution_count": 4,
     "metadata": {},
     "output_type": "execute_result"
    }
   ],
   "source": [
    "x+y"
   ]
  },
  {
   "cell_type": "markdown",
   "id": "e02a2c2c-25bf-4ebe-9860-49447e74bddb",
   "metadata": {},
   "source": [
    "#### 1C. Getting Z-score based on probabilities."
   ]
  },
  {
   "cell_type": "markdown",
   "id": "aeb2016b-fe16-4b0b-bcdd-e76e8a618d6d",
   "metadata": {},
   "source": [
    "Given a probability of 0.5 (which involves all events from the center of the normal distribution to its left), we predictably get a Z-score of 0."
   ]
  },
  {
   "cell_type": "code",
   "execution_count": 5,
   "id": "0f69b4af-3c53-453f-8fe1-f4c75aaa86df",
   "metadata": {},
   "outputs": [
    {
     "data": {
      "text/plain": [
       "0.0"
      ]
     },
     "execution_count": 5,
     "metadata": {},
     "output_type": "execute_result"
    }
   ],
   "source": [
    "stats.norm.ppf(0.5)"
   ]
  },
  {
   "cell_type": "markdown",
   "id": "256ac842-8cae-43c9-b5f8-7d094196c532",
   "metadata": {},
   "source": [
    "We know that for a cumulative probability of ~0.84, this corresponds to a distance of +1-sigma away. If we subtract this from 1, we can expect to get a Z-score of roughly -1. This is because we have a probability less than 50 percent, so we know that we will be at a distance of a sigma of negative magnitude."
   ]
  },
  {
   "cell_type": "code",
   "execution_count": 6,
   "id": "dce8389a-d869-4904-9213-fad2a72098b8",
   "metadata": {},
   "outputs": [
    {
     "data": {
      "text/plain": [
       "-0.9998150936147446"
      ]
     },
     "execution_count": 6,
     "metadata": {},
     "output_type": "execute_result"
    }
   ],
   "source": [
    "stats.norm.ppf(1-0.8413)"
   ]
  },
  {
   "cell_type": "markdown",
   "id": "b33202b4-6982-4eee-a784-4201cdb23684",
   "metadata": {},
   "source": [
    "Here we demonstrate the cdf (cumulative distribution function) and the ppf (percent point function), and how they are inverses of one another."
   ]
  },
  {
   "cell_type": "code",
   "execution_count": 7,
   "id": "fcb54c15-953a-4265-a08c-0b5272205a9e",
   "metadata": {},
   "outputs": [
    {
     "data": {
      "text/plain": [
       "1.0"
      ]
     },
     "execution_count": 7,
     "metadata": {},
     "output_type": "execute_result"
    }
   ],
   "source": [
    "stats.norm.ppf(stats.norm.cdf(1))"
   ]
  },
  {
   "cell_type": "markdown",
   "id": "072ee033-5455-4292-ba81-6b896407cafe",
   "metadata": {},
   "source": [
    "#### 2. Exploring other continuous analytic distributions. (Chi-squared)"
   ]
  },
  {
   "cell_type": "markdown",
   "id": "c5ea8ce8-63e6-4822-83fe-a2b9782d23c4",
   "metadata": {},
   "source": [
    "Here we will explore the chi-square distribution. The key points to the chi-square distribution:\n",
    "\n",
    "It's only parameter is the k number of variables, which are all squared and summed.\n",
    "Each variable must be random, independent, and standard normal (mean of 0, and a variance of 1)."
   ]
  },
  {
   "cell_type": "code",
   "execution_count": 8,
   "id": "b3bf2a19-3763-4863-9509-28ad63b963cf",
   "metadata": {},
   "outputs": [],
   "source": [
    "plt.rcParams[\"figure.figsize\"] = (15,10)"
   ]
  },
  {
   "cell_type": "markdown",
   "id": "008150ae-7c33-4bcc-935c-debbb803652c",
   "metadata": {},
   "source": [
    "Below we can see with only k=1, or 1 variable following the conditions above, we expect the most likely value to be 0. This is because with a standard normal distribution centered at 0, if we square that, we expect the mean value of 0 to be most probable, and squaring the values at the tips to be least likely."
   ]
  },
  {
   "cell_type": "code",
   "execution_count": 46,
   "id": "14dbcefe-6b1d-46c6-824d-1f19d5273147",
   "metadata": {},
   "outputs": [
    {
     "data": {
      "image/png": "[encoded data removed]",
      "text/plain": [
       "<Figure size 432x288 with 1 Axes>"
      ]
     },
     "metadata": {
      "needs_background": "light"
     },
     "output_type": "display_data"
    }
   ],
   "source": [
    "d = stats.chi2.rvs(1, scale = .1, size = 100000)\n",
    "fig, ax = plt.subplots(1, 1)\n",
    "ax.hist(d,50, density=True)\n",
    "#plt.tick_params(labelsize = 24)\n",
    "# plt.xlim([2.95,3.05])\n",
    "x = np.linspace(0, 1, 100)\n",
    "ax.plot(x,stats.chi2.pdf(x, 1, scale = 0.1),linewidth = 2,alpha = 1)\n",
    "plt.show()"
   ]
  },
  {
   "cell_type": "markdown",
   "id": "50b49cdc-57bb-40da-b3b0-3ce5d317494d",
   "metadata": {},
   "source": [
    "However, with values of k >> 1, there is a much higher chance of having at least some of those random variables contributing to the overall sum. Therefore, we start seeing much less of a skew towards 0, and it even gets more symmetric at very large values of k."
   ]
  },
  {
   "cell_type": "code",
   "execution_count": 50,
   "id": "ca325226-f2f5-495c-906e-bd019de21f08",
   "metadata": {},
   "outputs": [
    {
     "data": {
      "image/png": "[encoded data removed]",
      "text/plain": [
       "<Figure size 432x288 with 1 Axes>"
      ]
     },
     "metadata": {
      "needs_background": "light"
     },
     "output_type": "display_data"
    }
   ],
   "source": [
    "d = stats.chi2.rvs(12, scale = .1, size = 100000)\n",
    "fig, ax = plt.subplots(1, 1)\n",
    "ax.hist(d,50, density=True)\n",
    "#plt.tick_params(labelsize = 24)\n",
    "# plt.xlim([2.95,3.05])\n",
    "x = np.linspace(0, 4, 100)\n",
    "ax.plot(x,stats.chi2.pdf(x, 12, scale = 0.1),linewidth = 2,alpha = 1)\n",
    "plt.show()"
   ]
  },
  {
   "cell_type": "markdown",
   "id": "628aa982-184b-4111-a4ad-7538bd66af7b",
   "metadata": {},
   "source": [
    "#### 3A. \n",
    "I choose a value of measurement of 3.72 for our previous chi-squared graph of 12 independent, normally distributed random variables."
   ]
  },
  {
   "cell_type": "markdown",
   "id": "7163c1b0-39e7-4c70-bf69-ed30c0ee917f",
   "metadata": {},
   "source": [
    "#### 3B. \n",
    "Let's propose a scientific question.\n",
    "\n",
    "__What is the probability that 3.72 is a measurement of the signal or of a greater signal?__\n",
    "\n",
    "The nuance of this question is assuming that we have signal-free data (free of noise, and follows our chosen distribution). We care about our given measurement and above, because as we know with continuous distributions, we must choose a range to integrate over in order to produce a probability of events."
   ]
  },
  {
   "cell_type": "markdown",
   "id": "01895c1e-a0c3-4dbc-a2f6-b23d05886837",
   "metadata": {},
   "source": [
    "#### 3C.\n",
    "$ \\LARGE \\int_{3.72}^{\\infty} \\text{pdf}(x)dx $"
   ]
  },
  {
   "cell_type": "markdown",
   "id": "94247abe-f8e0-44af-8c72-f5eb2320d10f",
   "metadata": {},
   "source": [
    "#### 3D. The following probability calculation."
   ]
  },
  {
   "cell_type": "code",
   "execution_count": 54,
   "id": "f62b2b4f-ad71-49d6-821b-4fca7b68380c",
   "metadata": {},
   "outputs": [
    {
     "name": "stdout",
     "output_type": "stream",
     "text": [
      "1.3507273077806303e-10\n"
     ]
    }
   ],
   "source": [
    "prob = 1 - stats.chi2.cdf(3.72, 12, loc = 3., scale = 0.01)\n",
    "print(prob)"
   ]
  },
  {
   "cell_type": "markdown",
   "id": "1066bb3e-c57c-4d2a-a788-9e6d4595d832",
   "metadata": {},
   "source": [
    "#### 3E. The equivalent 'sigma' of our probability calculation, in the context of a normal distribution.\n",
    "\n",
    "X$\\sigma$ corresponds to the probability of signal-free data giving a measurement that is equally or more signal like than our observation. It directly applies to our assumptions of the data, and the context with which it is given."
   ]
  },
  {
   "cell_type": "code",
   "execution_count": 56,
   "id": "47f2ea1d-34d6-445b-a9ba-3ac66c879fff",
   "metadata": {},
   "outputs": [
    {
     "data": {
      "text/plain": [
       "6.315009167558792"
      ]
     },
     "execution_count": 56,
     "metadata": {},
     "output_type": "execute_result"
    }
   ],
   "source": [
    "stats.norm.ppf(stats.chi2.cdf(3.72, 12, loc = 3., scale = 0.01))"
   ]
  },
  {
   "cell_type": "markdown",
   "id": "89df7b5b-602e-4ab1-9cb8-f8778d0d69ff",
   "metadata": {},
   "source": [
    "# Non-continuous distributions (Binomial)"
   ]
  },
  {
   "cell_type": "markdown",
   "id": "7643e952-be23-405e-8695-424009e017e3",
   "metadata": {},
   "source": [
    "https://docs.scipy.org/doc/scipy/reference/reference/generated/scipy.stats.binom.html#scipy.stats.binom"
   ]
  },
  {
   "cell_type": "markdown",
   "id": "0f3241eb-5422-4e4b-ae73-d9bb4dce648f",
   "metadata": {},
   "source": [
    "#### 1B.\n",
    "\n",
    "Here we are going to play with the binomial distribution, which is an example of a discrete, non-continuous distribution. \n",
    "\n",
    "There are two parameters that define the shape of a binomial distribution.\n",
    "Given an random event X, which is defined as either a success or failure, we have to consider two things.\n",
    "\n",
    "The n number of trials of X.\n",
    "The p probability of success of X.\n",
    "\n",
    "The probability mass function of the binomial, then, plots the probability of a given number of successes for each discrete value between 0 and n."
   ]
  },
  {
   "cell_type": "code",
   "execution_count": 29,
   "id": "1b6923aa-edf2-400a-9032-40465f993a50",
   "metadata": {},
   "outputs": [],
   "source": [
    "from numpy import random\n",
    "import matplotlib.pyplot as plt\n"
   ]
  },
  {
   "cell_type": "code",
   "execution_count": 40,
   "id": "8ff5b203-7b80-4ae6-975e-51d96f3721b7",
   "metadata": {},
   "outputs": [
    {
     "data": {
      "image/png": "[encoded data removed]",
      "text/plain": [
       "<Figure size 432x288 with 1 Axes>"
      ]
     },
     "metadata": {
      "needs_background": "light"
     },
     "output_type": "display_data"
    }
   ],
   "source": [
    "x = np.linspace(0,40,41)\n",
    "pmf = stats.binom.pmf\n",
    "plt.step(x, pmf(x, n = 40, p = 0.5))\n",
    "plt.show()"
   ]
  },
  {
   "cell_type": "markdown",
   "id": "7169fc78-60b7-48c0-b9f3-54a8e495e0e1",
   "metadata": {},
   "source": [
    "Of course, when probability is equal to 0.5, the Binomial distribution looks like a Gaussian. This is expected, as it is the most likely event that half of the independent trials will result in a success. The domain of our distribution is between 0 and n."
   ]
  },
  {
   "cell_type": "code",
   "execution_count": 41,
   "id": "008d508a-579a-48a1-b383-0693cf955a84",
   "metadata": {},
   "outputs": [
    {
     "data": {
      "image/png": "[encoded data removed]",
      "text/plain": [
       "<Figure size 432x288 with 1 Axes>"
      ]
     },
     "metadata": {
      "needs_background": "light"
     },
     "output_type": "display_data"
    }
   ],
   "source": [
    "x = np.linspace(0,10,11)\n",
    "pmf2 = stats.binom.pmf(x,10,0.3)\n",
    "\n",
    "plt.step(x,pmf2)\n",
    "plt.show()"
   ]
  },
  {
   "cell_type": "markdown",
   "id": "0ea73d79-b9c9-48c0-944d-c508ed70342c",
   "metadata": {},
   "source": [
    "When the probability is away from 0.5, however, we begin to see a skew in the distribution. The peak of the distribution nears the expected value of successful events."
   ]
  },
  {
   "cell_type": "markdown",
   "id": "2d038306-74e3-43ee-801f-cb34d5a57bce",
   "metadata": {},
   "source": [
    "#### 3C.\n",
    "\n",
    "Let's propose a scientific question.\n",
    "\n",
    "Using our graph above, with n = 10 and p = 0.3:\n",
    "\n",
    "__What is the probability of X being successful for 6 trials or more?__ \n",
    "\n",
    "We can do what we did similar to calculating the cumulative distribution function (and subtracting from 1 depending on the question you're asking). We just need to make sure to add up all the probabilities of all values within our range, which is 6-10 inclusive."
   ]
  },
  {
   "cell_type": "code",
   "execution_count": 44,
   "id": "734eaaba-0a4e-4e74-b593-c26d136cf02c",
   "metadata": {},
   "outputs": [
    {
     "name": "stdout",
     "output_type": "stream",
     "text": [
      "0.04734898740000004 is the probability of 6 or more successful events of X.\n"
     ]
    }
   ],
   "source": [
    "prob2 = (1 - stats.binom.cdf(k = 5, n = 10, p = 0.3))\n",
    "print(str(prob2) + ' is the probability of 6 or more successful events of X.')"
   ]
  },
  {
   "cell_type": "markdown",
   "id": "033458f9-16f5-46cf-a3c4-8bac458504e7",
   "metadata": {},
   "source": [
    "Here we calculated the cumulative distribution function up to and including 5 successes. To get 6 and above, we simply subtract this value from 1."
   ]
  },
  {
   "cell_type": "markdown",
   "id": "8949e8ce-1e99-47f7-bbc5-a45b2a280f55",
   "metadata": {},
   "source": [
    "#### 3D."
   ]
  },
  {
   "cell_type": "markdown",
   "id": "3f7bd076-e1d5-421a-9685-cfd357c4d9d7",
   "metadata": {},
   "source": [
    "Probabilities and sigmas are also discrete in these non-continuous distributions. So compared to continuous probability distributions, instead of thinking in terms of integrals and infinitesimals, we must think of actually summing the probabilities of these discrete values. The biggest catch might be, unlike continuous distributions, we can also calculate the probability at a single value of k."
   ]
  },
  {
   "cell_type": "markdown",
   "id": "3046f3c9-3702-45da-b752-fd0277e1c668",
   "metadata": {},
   "source": [
    "#### 3E.\n",
    "\n",
    "Parameters of such distributions are not discrete. For example, the mean does not have to be an integer, and can theoretically span the infinite range of numbers. The mean does not necessarily give a specific value in our domain of probabilities, as it gives us an expected value of successful events. And of course, we know that averaging values out through division does not always give nice numbers. Such statistical parameters that are not subjected to limited operations of addition, subtraction, or even multiplication of the discrete probabilities/sigmas will predictably span outside their discrete domain."
   ]
  }
 ],
 "metadata": {
  "kernelspec": {
   "display_name": "Python 3",
   "language": "python",
   "name": "python3"
  },
  "language_info": {
   "codemirror_mode": {
    "name": "ipython",
    "version": 3
   },
   "file_extension": ".py",
   "mimetype": "text/x-python",
   "name": "python",
   "nbconvert_exporter": "python",
   "pygments_lexer": "ipython3",
   "version": "3.8.8"
  }
 },
 "nbformat": 4,
 "nbformat_minor": 5
}
